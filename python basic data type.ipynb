{
 "cells": [
  {
   "cell_type": "code",
   "execution_count": 3,
   "id": "76e07ac2-04dc-4980-9181-2ad5902bf6be",
   "metadata": {},
   "outputs": [],
   "source": [
    "l =[]"
   ]
  },
  {
   "cell_type": "code",
   "execution_count": 4,
   "id": "22b003e9-da9f-4b8e-b762-31dccbe51b33",
   "metadata": {},
   "outputs": [
    {
     "data": {
      "text/plain": [
       "list"
      ]
     },
     "execution_count": 4,
     "metadata": {},
     "output_type": "execute_result"
    }
   ],
   "source": [
    "type(l)"
   ]
  },
  {
   "cell_type": "code",
   "execution_count": 5,
   "id": "78f1a9cc-c595-4655-a113-c982afe205e1",
   "metadata": {},
   "outputs": [],
   "source": [
    "ll =[1,2,3,4,5,\"subho\" , \"raj\" , 3+6j , 345 , 565, True,]"
   ]
  },
  {
   "cell_type": "code",
   "execution_count": 6,
   "id": "bc3c5d5e-5692-4e48-bb08-1b1985a81d79",
   "metadata": {},
   "outputs": [
    {
     "data": {
      "text/plain": [
       "[1, 2, 3, 4, 5, 'subho', 'raj', (3+6j), 345, 565, True]"
      ]
     },
     "execution_count": 6,
     "metadata": {},
     "output_type": "execute_result"
    }
   ],
   "source": [
    "ll"
   ]
  },
  {
   "cell_type": "code",
   "execution_count": 7,
   "id": "100e2611-427a-4075-975a-4fa364412d57",
   "metadata": {},
   "outputs": [
    {
     "data": {
      "text/plain": [
       "list"
      ]
     },
     "execution_count": 7,
     "metadata": {},
     "output_type": "execute_result"
    }
   ],
   "source": [
    "type(ll)"
   ]
  },
  {
   "cell_type": "code",
   "execution_count": 8,
   "id": "ac85b421-8b98-4b79-aba9-67892edbb3c8",
   "metadata": {},
   "outputs": [
    {
     "data": {
      "text/plain": [
       "'subho'"
      ]
     },
     "execution_count": 8,
     "metadata": {},
     "output_type": "execute_result"
    }
   ],
   "source": [
    "ll[5]"
   ]
  },
  {
   "cell_type": "code",
   "execution_count": 9,
   "id": "e06f6d75-884b-4290-9038-dd82177be91c",
   "metadata": {},
   "outputs": [
    {
     "data": {
      "text/plain": [
       "True"
      ]
     },
     "execution_count": 9,
     "metadata": {},
     "output_type": "execute_result"
    }
   ],
   "source": [
    "ll[-1]"
   ]
  },
  {
   "cell_type": "code",
   "execution_count": 10,
   "id": "91216b5e-27c1-4d04-b3f9-574f87545a4e",
   "metadata": {},
   "outputs": [
    {
     "ename": "TypeError",
     "evalue": "'bool' object is not subscriptable",
     "output_type": "error",
     "traceback": [
      "\u001b[0;31m---------------------------------------------------------------------------\u001b[0m",
      "\u001b[0;31mTypeError\u001b[0m                                 Traceback (most recent call last)",
      "Cell \u001b[0;32mIn[10], line 1\u001b[0m\n\u001b[0;32m----> 1\u001b[0m \u001b[43mll\u001b[49m\u001b[43m[\u001b[49m\u001b[38;5;241;43m-\u001b[39;49m\u001b[38;5;241;43m1\u001b[39;49m\u001b[43m]\u001b[49m\u001b[43m[\u001b[49m\u001b[38;5;241;43m-\u001b[39;49m\u001b[38;5;241;43m2\u001b[39;49m\u001b[43m]\u001b[49m\n",
      "\u001b[0;31mTypeError\u001b[0m: 'bool' object is not subscriptable"
     ]
    }
   ],
   "source": [
    "ll[-1][-2]"
   ]
  },
  {
   "cell_type": "code",
   "execution_count": 11,
   "id": "acb6a47b-b219-42c8-bddb-811fe9b5ade7",
   "metadata": {},
   "outputs": [
    {
     "ename": "TypeError",
     "evalue": "'bool' object is not subscriptable",
     "output_type": "error",
     "traceback": [
      "\u001b[0;31m---------------------------------------------------------------------------\u001b[0m",
      "\u001b[0;31mTypeError\u001b[0m                                 Traceback (most recent call last)",
      "Cell \u001b[0;32mIn[11], line 1\u001b[0m\n\u001b[0;32m----> 1\u001b[0m \u001b[43mll\u001b[49m\u001b[43m[\u001b[49m\u001b[38;5;241;43m-\u001b[39;49m\u001b[38;5;241;43m1\u001b[39;49m\u001b[43m]\u001b[49m\u001b[43m[\u001b[49m\u001b[38;5;241;43m3\u001b[39;49m\u001b[43m]\u001b[49m\n",
      "\u001b[0;31mTypeError\u001b[0m: 'bool' object is not subscriptable"
     ]
    }
   ],
   "source": [
    "ll[-1][3]"
   ]
  },
  {
   "cell_type": "code",
   "execution_count": 12,
   "id": "f8e88c93-a337-45a3-960d-9c2dd6b7bb7d",
   "metadata": {},
   "outputs": [
    {
     "data": {
      "text/plain": [
       "[1, 2, 3, 4, 5, 'subho', 'raj', (3+6j), 345, 565, True]"
      ]
     },
     "execution_count": 12,
     "metadata": {},
     "output_type": "execute_result"
    }
   ],
   "source": [
    "ll"
   ]
  },
  {
   "cell_type": "code",
   "execution_count": 13,
   "id": "ff9700f1-138d-4687-bfa3-3ecd5107b52c",
   "metadata": {},
   "outputs": [
    {
     "data": {
      "text/plain": [
       "[1, 2, 3, 4, 5]"
      ]
     },
     "execution_count": 13,
     "metadata": {},
     "output_type": "execute_result"
    }
   ],
   "source": [
    "ll[0:5]"
   ]
  },
  {
   "cell_type": "code",
   "execution_count": 14,
   "id": "a993d1a6-e0df-4a42-ac1a-0fe673b009d2",
   "metadata": {},
   "outputs": [],
   "source": [
    "l2 =[3,4,5, \"pwskills\", \"subho\"]"
   ]
  },
  {
   "cell_type": "code",
   "execution_count": 15,
   "id": "af792160-935e-4a9c-a491-e6cf930410f9",
   "metadata": {},
   "outputs": [
    {
     "data": {
      "text/plain": [
       "[1,\n",
       " 2,\n",
       " 3,\n",
       " 4,\n",
       " 5,\n",
       " 'subho',\n",
       " 'raj',\n",
       " (3+6j),\n",
       " 345,\n",
       " 565,\n",
       " True,\n",
       " 3,\n",
       " 4,\n",
       " 5,\n",
       " 'pwskills',\n",
       " 'subho']"
      ]
     },
     "execution_count": 15,
     "metadata": {},
     "output_type": "execute_result"
    }
   ],
   "source": [
    "ll+l2"
   ]
  },
  {
   "cell_type": "code",
   "execution_count": 16,
   "id": "cf169948-7708-4006-a1bf-b09d0b59240d",
   "metadata": {},
   "outputs": [
    {
     "ename": "TypeError",
     "evalue": "can only concatenate list (not \"str\") to list",
     "output_type": "error",
     "traceback": [
      "\u001b[0;31m---------------------------------------------------------------------------\u001b[0m",
      "\u001b[0;31mTypeError\u001b[0m                                 Traceback (most recent call last)",
      "Cell \u001b[0;32mIn[16], line 1\u001b[0m\n\u001b[0;32m----> 1\u001b[0m \u001b[43ml2\u001b[49m\u001b[38;5;241;43m+\u001b[39;49m\u001b[43m \u001b[49m\u001b[38;5;124;43m\"\u001b[39;49m\u001b[38;5;124;43msubho\u001b[39;49m\u001b[38;5;124;43m\"\u001b[39;49m\n",
      "\u001b[0;31mTypeError\u001b[0m: can only concatenate list (not \"str\") to list"
     ]
    }
   ],
   "source": [
    "l2+ \"subho\""
   ]
  },
  {
   "cell_type": "code",
   "execution_count": 17,
   "id": "c606c0f7-7868-4289-8a95-d6a36536da7a",
   "metadata": {},
   "outputs": [
    {
     "data": {
      "text/plain": [
       "['s', 'u', 'b', 'h', 'o']"
      ]
     },
     "execution_count": 17,
     "metadata": {},
     "output_type": "execute_result"
    }
   ],
   "source": [
    "list(\"subho\")"
   ]
  },
  {
   "cell_type": "code",
   "execution_count": 18,
   "id": "2582267c-a9e4-4635-9944-c4fbe240acc4",
   "metadata": {},
   "outputs": [
    {
     "ename": "TypeError",
     "evalue": "'int' object is not iterable",
     "output_type": "error",
     "traceback": [
      "\u001b[0;31m---------------------------------------------------------------------------\u001b[0m",
      "\u001b[0;31mTypeError\u001b[0m                                 Traceback (most recent call last)",
      "Cell \u001b[0;32mIn[18], line 1\u001b[0m\n\u001b[0;32m----> 1\u001b[0m \u001b[38;5;28;43mlist\u001b[39;49m\u001b[43m(\u001b[49m\u001b[38;5;241;43m345\u001b[39;49m\u001b[43m)\u001b[49m\n",
      "\u001b[0;31mTypeError\u001b[0m: 'int' object is not iterable"
     ]
    }
   ],
   "source": [
    "list(345)"
   ]
  },
  {
   "cell_type": "code",
   "execution_count": 19,
   "id": "8229c4b1-f7e0-4264-96cb-19019141c5aa",
   "metadata": {},
   "outputs": [
    {
     "data": {
      "text/plain": [
       "[3, 4, 5, 'pwskills', 'subho']"
      ]
     },
     "execution_count": 19,
     "metadata": {},
     "output_type": "execute_result"
    }
   ],
   "source": [
    "l2"
   ]
  },
  {
   "cell_type": "code",
   "execution_count": 20,
   "id": "e1fccbdd-8882-47c2-8c7f-c0bd6956bd4b",
   "metadata": {},
   "outputs": [
    {
     "data": {
      "text/plain": [
       "[3, 4, 5, 'pwskills', 'subho', 3, 4, 5, 'pwskills', 'subho']"
      ]
     },
     "execution_count": 20,
     "metadata": {},
     "output_type": "execute_result"
    }
   ],
   "source": [
    "l2*2"
   ]
  },
  {
   "cell_type": "code",
   "execution_count": 21,
   "id": "bc352179-bb3b-442f-8b07-72a1eef713de",
   "metadata": {},
   "outputs": [
    {
     "data": {
      "text/plain": [
       "[3, 4, 5, 'pwskills', 'subho', 3, 4, 5, 'pwskills', 'subho']"
      ]
     },
     "execution_count": 21,
     "metadata": {},
     "output_type": "execute_result"
    }
   ],
   "source": [
    "l2+l2"
   ]
  },
  {
   "cell_type": "code",
   "execution_count": 22,
   "id": "bd404eef-69ef-4e88-a4e5-168ed55839c7",
   "metadata": {},
   "outputs": [
    {
     "ename": "TypeError",
     "evalue": "unsupported operand type(s) for -: 'list' and 'list'",
     "output_type": "error",
     "traceback": [
      "\u001b[0;31m---------------------------------------------------------------------------\u001b[0m",
      "\u001b[0;31mTypeError\u001b[0m                                 Traceback (most recent call last)",
      "Cell \u001b[0;32mIn[22], line 1\u001b[0m\n\u001b[0;32m----> 1\u001b[0m \u001b[43ml2\u001b[49m\u001b[38;5;241;43m-\u001b[39;49m\u001b[43ml2\u001b[49m\n",
      "\u001b[0;31mTypeError\u001b[0m: unsupported operand type(s) for -: 'list' and 'list'"
     ]
    }
   ],
   "source": [
    "l2-l2"
   ]
  },
  {
   "cell_type": "code",
   "execution_count": 23,
   "id": "656652eb-09ca-4f20-90be-9549738f8e2f",
   "metadata": {},
   "outputs": [
    {
     "data": {
      "text/plain": [
       "[3, 4, 5, 'pwskills', 'subho']"
      ]
     },
     "execution_count": 23,
     "metadata": {},
     "output_type": "execute_result"
    }
   ],
   "source": [
    "l2"
   ]
  },
  {
   "cell_type": "code",
   "execution_count": 28,
   "id": "6bd822bf-f89a-4fdd-8ee2-ecedbb4c574d",
   "metadata": {},
   "outputs": [
    {
     "data": {
      "text/plain": [
       "300"
      ]
     },
     "execution_count": 28,
     "metadata": {},
     "output_type": "execute_result"
    }
   ],
   "source": [
    "l2[0]"
   ]
  },
  {
   "cell_type": "code",
   "execution_count": 26,
   "id": "a5b6be98-165e-48cc-aa8e-92c4e4486bbe",
   "metadata": {},
   "outputs": [],
   "source": [
    "l2[0]=300"
   ]
  },
  {
   "cell_type": "code",
   "execution_count": 27,
   "id": "cd8e6b5f-31ff-483f-8ca0-6af1ee6d77ce",
   "metadata": {},
   "outputs": [
    {
     "data": {
      "text/plain": [
       "[300, 4, 5, 'pwskills', 'subho']"
      ]
     },
     "execution_count": 27,
     "metadata": {},
     "output_type": "execute_result"
    }
   ],
   "source": [
    "l2"
   ]
  },
  {
   "cell_type": "code",
   "execution_count": 29,
   "id": "27ed1b18-9ed9-499a-b3db-b153667c0950",
   "metadata": {},
   "outputs": [],
   "source": [
    "t= (1,2,3,4,\"subho\" , \"pwskills\" , 4+56j , True)"
   ]
  },
  {
   "cell_type": "code",
   "execution_count": 30,
   "id": "4253ea59-aeae-4fc8-93c9-43a968a2a185",
   "metadata": {},
   "outputs": [
    {
     "data": {
      "text/plain": [
       "tuple"
      ]
     },
     "execution_count": 30,
     "metadata": {},
     "output_type": "execute_result"
    }
   ],
   "source": [
    "type(t)"
   ]
  },
  {
   "cell_type": "code",
   "execution_count": 31,
   "id": "ecf613fe-0384-438b-b97d-5cd4b4f51901",
   "metadata": {},
   "outputs": [
    {
     "data": {
      "text/plain": [
       "1"
      ]
     },
     "execution_count": 31,
     "metadata": {},
     "output_type": "execute_result"
    }
   ],
   "source": [
    "t[0]"
   ]
  },
  {
   "cell_type": "code",
   "execution_count": 32,
   "id": "e7f1de06-40d2-47e3-9c61-c4eb4c98a4de",
   "metadata": {},
   "outputs": [
    {
     "data": {
      "text/plain": [
       "True"
      ]
     },
     "execution_count": 32,
     "metadata": {},
     "output_type": "execute_result"
    }
   ],
   "source": [
    "t[-1]"
   ]
  },
  {
   "cell_type": "code",
   "execution_count": 33,
   "id": "0dd4ec46-5330-45ac-85b1-6c17bd36ac16",
   "metadata": {},
   "outputs": [
    {
     "data": {
      "text/plain": [
       "(True, (4+56j), 'pwskills', 'subho', 4, 3, 2, 1)"
      ]
     },
     "execution_count": 33,
     "metadata": {},
     "output_type": "execute_result"
    }
   ],
   "source": [
    "t[::-1]"
   ]
  },
  {
   "cell_type": "code",
   "execution_count": 36,
   "id": "ef870bd9-e67f-41f7-bbd0-55447c938288",
   "metadata": {},
   "outputs": [
    {
     "ename": "TypeError",
     "evalue": "'tuple' object does not support item assignment",
     "output_type": "error",
     "traceback": [
      "\u001b[0;31m---------------------------------------------------------------------------\u001b[0m",
      "\u001b[0;31mTypeError\u001b[0m                                 Traceback (most recent call last)",
      "Cell \u001b[0;32mIn[36], line 1\u001b[0m\n\u001b[0;32m----> 1\u001b[0m \u001b[43mt\u001b[49m\u001b[43m[\u001b[49m\u001b[38;5;241;43m0\u001b[39;49m\u001b[43m]\u001b[49m \u001b[38;5;241m=\u001b[39m\u001b[38;5;124m\"\u001b[39m\u001b[38;5;124msubho\u001b[39m\u001b[38;5;124m\"\u001b[39m\n",
      "\u001b[0;31mTypeError\u001b[0m: 'tuple' object does not support item assignment"
     ]
    }
   ],
   "source": [
    "t[0] =\"subho\""
   ]
  },
  {
   "cell_type": "code",
   "execution_count": 37,
   "id": "73da6033-59fb-4434-81cf-ac1a04a8d7c3",
   "metadata": {},
   "outputs": [],
   "source": [
    "t1 =(1,2,3,5,6)"
   ]
  },
  {
   "cell_type": "code",
   "execution_count": 38,
   "id": "182ca907-2ea8-4990-849b-a41bb3b4e7f4",
   "metadata": {},
   "outputs": [
    {
     "data": {
      "text/plain": [
       "(1, 2, 3, 4, 'subho', 'pwskills', (4+56j), True)"
      ]
     },
     "execution_count": 38,
     "metadata": {},
     "output_type": "execute_result"
    }
   ],
   "source": [
    "t"
   ]
  },
  {
   "cell_type": "code",
   "execution_count": 39,
   "id": "7eba0d84-73b2-4bc3-8346-6136ae5458d1",
   "metadata": {},
   "outputs": [
    {
     "data": {
      "text/plain": [
       "[1, 2, 3, 4, 'subho', 'pwskills', (4+56j), True]"
      ]
     },
     "execution_count": 39,
     "metadata": {},
     "output_type": "execute_result"
    }
   ],
   "source": [
    "list(t)"
   ]
  },
  {
   "cell_type": "code",
   "execution_count": 40,
   "id": "bc8617df-aba0-4863-b45c-708501dddd02",
   "metadata": {},
   "outputs": [
    {
     "data": {
      "text/plain": [
       "[300, 4, 5, 'pwskills', 'subho']"
      ]
     },
     "execution_count": 40,
     "metadata": {},
     "output_type": "execute_result"
    }
   ],
   "source": [
    "l2"
   ]
  },
  {
   "cell_type": "code",
   "execution_count": 41,
   "id": "d214103c-1b00-4ea1-b0eb-e3dbaca13505",
   "metadata": {},
   "outputs": [
    {
     "data": {
      "text/plain": [
       "(300, 4, 5, 'pwskills', 'subho')"
      ]
     },
     "execution_count": 41,
     "metadata": {},
     "output_type": "execute_result"
    }
   ],
   "source": [
    "tuple(l2)"
   ]
  },
  {
   "cell_type": "code",
   "execution_count": 42,
   "id": "2e8b3c19-e337-4423-8787-bb35ddfcaff5",
   "metadata": {},
   "outputs": [
    {
     "data": {
      "text/plain": [
       "8"
      ]
     },
     "execution_count": 42,
     "metadata": {},
     "output_type": "execute_result"
    }
   ],
   "source": [
    "len(t)"
   ]
  },
  {
   "cell_type": "code",
   "execution_count": 43,
   "id": "eb93b812-9c89-4e18-9eed-4f3db06c53a8",
   "metadata": {},
   "outputs": [
    {
     "data": {
      "text/plain": [
       "11"
      ]
     },
     "execution_count": 43,
     "metadata": {},
     "output_type": "execute_result"
    }
   ],
   "source": [
    "len(ll)"
   ]
  },
  {
   "cell_type": "code",
   "execution_count": 44,
   "id": "dfd2cb83-23ba-4b31-967e-e3661b5e2267",
   "metadata": {},
   "outputs": [
    {
     "ename": "TypeError",
     "evalue": "can only concatenate tuple (not \"list\") to tuple",
     "output_type": "error",
     "traceback": [
      "\u001b[0;31m---------------------------------------------------------------------------\u001b[0m",
      "\u001b[0;31mTypeError\u001b[0m                                 Traceback (most recent call last)",
      "Cell \u001b[0;32mIn[44], line 1\u001b[0m\n\u001b[0;32m----> 1\u001b[0m \u001b[43mt1\u001b[49m\u001b[38;5;241;43m+\u001b[39;49m\u001b[43ml2\u001b[49m\n",
      "\u001b[0;31mTypeError\u001b[0m: can only concatenate tuple (not \"list\") to tuple"
     ]
    }
   ],
   "source": [
    "t1+l2"
   ]
  },
  {
   "cell_type": "code",
   "execution_count": 45,
   "id": "fa7d408c-f545-4832-a3d5-42d611ce900f",
   "metadata": {},
   "outputs": [
    {
     "data": {
      "text/plain": [
       "(1, 2, 3, 5, 6, 1, 2, 3, 4, 'subho', 'pwskills', (4+56j), True)"
      ]
     },
     "execution_count": 45,
     "metadata": {},
     "output_type": "execute_result"
    }
   ],
   "source": [
    "t1+t"
   ]
  },
  {
   "cell_type": "code",
   "execution_count": 46,
   "id": "5b9cea02-8395-4f95-a577-46bb6ed409a9",
   "metadata": {},
   "outputs": [
    {
     "ename": "TypeError",
     "evalue": "can't multiply sequence by non-int of type 'tuple'",
     "output_type": "error",
     "traceback": [
      "\u001b[0;31m---------------------------------------------------------------------------\u001b[0m",
      "\u001b[0;31mTypeError\u001b[0m                                 Traceback (most recent call last)",
      "Cell \u001b[0;32mIn[46], line 1\u001b[0m\n\u001b[0;32m----> 1\u001b[0m \u001b[43mt1\u001b[49m\u001b[38;5;241;43m*\u001b[39;49m\u001b[43mt\u001b[49m\n",
      "\u001b[0;31mTypeError\u001b[0m: can't multiply sequence by non-int of type 'tuple'"
     ]
    }
   ],
   "source": [
    "t1*t"
   ]
  },
  {
   "cell_type": "code",
   "execution_count": 47,
   "id": "33a0977c-6562-47c5-b75d-5277e9e7a016",
   "metadata": {},
   "outputs": [
    {
     "ename": "TypeError",
     "evalue": "can't multiply sequence by non-int of type 'tuple'",
     "output_type": "error",
     "traceback": [
      "\u001b[0;31m---------------------------------------------------------------------------\u001b[0m",
      "\u001b[0;31mTypeError\u001b[0m                                 Traceback (most recent call last)",
      "Cell \u001b[0;32mIn[47], line 1\u001b[0m\n\u001b[0;32m----> 1\u001b[0m \u001b[43mt\u001b[49m\u001b[38;5;241;43m*\u001b[39;49m\u001b[43mt1\u001b[49m\n",
      "\u001b[0;31mTypeError\u001b[0m: can't multiply sequence by non-int of type 'tuple'"
     ]
    }
   ],
   "source": [
    "t*t1"
   ]
  },
  {
   "cell_type": "code",
   "execution_count": 48,
   "id": "0df19d4c-a8fc-4bec-a2f5-ff8c85d28dda",
   "metadata": {},
   "outputs": [],
   "source": [
    "s={}"
   ]
  },
  {
   "cell_type": "code",
   "execution_count": 49,
   "id": "70ba0180-04b0-4e7e-8ff7-1c86dc92b565",
   "metadata": {},
   "outputs": [
    {
     "data": {
      "text/plain": [
       "dict"
      ]
     },
     "execution_count": 49,
     "metadata": {},
     "output_type": "execute_result"
    }
   ],
   "source": [
    "type(s)"
   ]
  },
  {
   "cell_type": "code",
   "execution_count": 52,
   "id": "ada319f0-e578-49f4-8669-8d76a918d894",
   "metadata": {},
   "outputs": [],
   "source": [
    "s1={1,2,3,4,5,5\n",
    "   }"
   ]
  },
  {
   "cell_type": "code",
   "execution_count": 53,
   "id": "81dc2d61-8a3d-4961-b9fa-596012df8b1f",
   "metadata": {},
   "outputs": [
    {
     "data": {
      "text/plain": [
       "{1, 2, 3, 4, 5}"
      ]
     },
     "execution_count": 53,
     "metadata": {},
     "output_type": "execute_result"
    }
   ],
   "source": [
    "s1"
   ]
  },
  {
   "cell_type": "code",
   "execution_count": 54,
   "id": "7d991f31-f10c-49d9-bdc5-6aa6b93521a3",
   "metadata": {},
   "outputs": [
    {
     "data": {
      "text/plain": [
       "set"
      ]
     },
     "execution_count": 54,
     "metadata": {},
     "output_type": "execute_result"
    }
   ],
   "source": [
    "type(s1)"
   ]
  },
  {
   "cell_type": "code",
   "execution_count": 58,
   "id": "06cd592e-8b0f-4156-9490-ffe5710e2b77",
   "metadata": {},
   "outputs": [],
   "source": [
    "s2={\"subho\", \"subho\", \"Subho\", 1,2,3,4,5,5,6,7,}"
   ]
  },
  {
   "cell_type": "code",
   "execution_count": 59,
   "id": "bab04ca9-313e-4d50-8b92-9f68bc6d7a46",
   "metadata": {},
   "outputs": [
    {
     "data": {
      "text/plain": [
       "{1, 2, 3, 4, 5, 6, 7, 'Subho', 'subho'}"
      ]
     },
     "execution_count": 59,
     "metadata": {},
     "output_type": "execute_result"
    }
   ],
   "source": [
    "s2"
   ]
  },
  {
   "cell_type": "markdown",
   "id": "75857d32-242d-4ff8-83aa-438ae1da7d60",
   "metadata": {},
   "source": [
    "## s1+s2"
   ]
  },
  {
   "cell_type": "code",
   "execution_count": 60,
   "id": "36a4a201-cbc2-462e-9017-9f95c98c799e",
   "metadata": {},
   "outputs": [
    {
     "data": {
      "text/plain": [
       "{1, 2, 3, 4, 5, 6, 7, 'Subho', 'subho'}"
      ]
     },
     "execution_count": 60,
     "metadata": {},
     "output_type": "execute_result"
    }
   ],
   "source": [
    "s2"
   ]
  },
  {
   "cell_type": "code",
   "execution_count": 62,
   "id": "08b28dd3-d78a-4aa3-b10e-bbf41ffcfd27",
   "metadata": {},
   "outputs": [
    {
     "data": {
      "text/plain": [
       "['subho', 1, 2, 3, 4, 5, 6, 7, 'Subho']"
      ]
     },
     "execution_count": 62,
     "metadata": {},
     "output_type": "execute_result"
    }
   ],
   "source": [
    "list (s2)"
   ]
  },
  {
   "cell_type": "code",
   "execution_count": 63,
   "id": "0bc42ad4-cab1-4f19-b8a0-156d08de30a7",
   "metadata": {},
   "outputs": [
    {
     "data": {
      "text/plain": [
       "{300, 4, 5, 'pwskills', 'subho'}"
      ]
     },
     "execution_count": 63,
     "metadata": {},
     "output_type": "execute_result"
    }
   ],
   "source": [
    "set(l2)"
   ]
  },
  {
   "cell_type": "code",
   "execution_count": 64,
   "id": "a9c0cf4d-2777-40c6-a2ea-5d3d6bf21904",
   "metadata": {},
   "outputs": [
    {
     "data": {
      "text/plain": [
       "[1, 2, 3, 4, 5, 'subho', 'raj', (3+6j), 345, 565, True]"
      ]
     },
     "execution_count": 64,
     "metadata": {},
     "output_type": "execute_result"
    }
   ],
   "source": [
    "ll"
   ]
  },
  {
   "cell_type": "code",
   "execution_count": 65,
   "id": "e4da87bf-ead1-40d5-bb41-4c83a3598b3e",
   "metadata": {},
   "outputs": [
    {
     "ename": "NameError",
     "evalue": "name 't2' is not defined",
     "output_type": "error",
     "traceback": [
      "\u001b[0;31m---------------------------------------------------------------------------\u001b[0m",
      "\u001b[0;31mNameError\u001b[0m                                 Traceback (most recent call last)",
      "Cell \u001b[0;32mIn[65], line 1\u001b[0m\n\u001b[0;32m----> 1\u001b[0m \u001b[38;5;28mset\u001b[39m(\u001b[43mt2\u001b[49m)\n",
      "\u001b[0;31mNameError\u001b[0m: name 't2' is not defined"
     ]
    }
   ],
   "source": [
    "set(t2)"
   ]
  },
  {
   "cell_type": "code",
   "execution_count": 66,
   "id": "953f7d58-8686-411e-8470-a7b8017caada",
   "metadata": {},
   "outputs": [
    {
     "data": {
      "text/plain": [
       "{(4+56j), 1, 2, 3, 4, 'pwskills', 'subho'}"
      ]
     },
     "execution_count": 66,
     "metadata": {},
     "output_type": "execute_result"
    }
   ],
   "source": [
    "set(t)"
   ]
  },
  {
   "cell_type": "code",
   "execution_count": 68,
   "id": "169108d3-5320-4876-a148-045aa1b2fcf0",
   "metadata": {},
   "outputs": [
    {
     "data": {
      "text/plain": [
       "('subho', 1, 2, 3, 4, 5, 6, 7, 'Subho')"
      ]
     },
     "execution_count": 68,
     "metadata": {},
     "output_type": "execute_result"
    }
   ],
   "source": [
    "tuple(s2)"
   ]
  },
  {
   "cell_type": "code",
   "execution_count": 69,
   "id": "ccfcbad8-ddaa-47d6-89ec-d774523c5755",
   "metadata": {},
   "outputs": [
    {
     "data": {
      "text/plain": [
       "{1, 2, 3, 4, 5, 6, 7, 'Subho', 'subho'}"
      ]
     },
     "execution_count": 69,
     "metadata": {},
     "output_type": "execute_result"
    }
   ],
   "source": [
    "s2"
   ]
  },
  {
   "cell_type": "code",
   "execution_count": 70,
   "id": "1ab6e54b-0f30-4e44-bde7-a2da3565f85d",
   "metadata": {},
   "outputs": [
    {
     "ename": "TypeError",
     "evalue": "'set' object is not subscriptable",
     "output_type": "error",
     "traceback": [
      "\u001b[0;31m---------------------------------------------------------------------------\u001b[0m",
      "\u001b[0;31mTypeError\u001b[0m                                 Traceback (most recent call last)",
      "Cell \u001b[0;32mIn[70], line 1\u001b[0m\n\u001b[0;32m----> 1\u001b[0m \u001b[43ms2\u001b[49m\u001b[43m[\u001b[49m\u001b[38;5;241;43m0\u001b[39;49m\u001b[43m]\u001b[49m\n",
      "\u001b[0;31mTypeError\u001b[0m: 'set' object is not subscriptable"
     ]
    }
   ],
   "source": [
    "s2[0]"
   ]
  },
  {
   "cell_type": "code",
   "execution_count": 71,
   "id": "c19dee9e-5ca3-47ed-acf7-80f3e48ede34",
   "metadata": {},
   "outputs": [
    {
     "data": {
      "text/plain": [
       "['subho', 1, 2, 3, 4, 5, 6, 7, 'Subho']"
      ]
     },
     "execution_count": 71,
     "metadata": {},
     "output_type": "execute_result"
    }
   ],
   "source": [
    "list(s2)"
   ]
  },
  {
   "cell_type": "code",
   "execution_count": 72,
   "id": "d29e4a2e-5f7a-4c2b-bca5-75b7ce74172c",
   "metadata": {},
   "outputs": [
    {
     "data": {
      "text/plain": [
       "('subho', 1, 2, 3, 4, 5, 6, 7, 'Subho')"
      ]
     },
     "execution_count": 72,
     "metadata": {},
     "output_type": "execute_result"
    }
   ],
   "source": [
    "tuple(s2)"
   ]
  },
  {
   "cell_type": "code",
   "execution_count": 73,
   "id": "99613377-a8f9-4794-8509-789122c4a3c0",
   "metadata": {},
   "outputs": [
    {
     "data": {
      "text/plain": [
       "{1, 2, 3, 4, 5, 6, 7, 'Subho', 'subho'}"
      ]
     },
     "execution_count": 73,
     "metadata": {},
     "output_type": "execute_result"
    }
   ],
   "source": [
    "s2"
   ]
  },
  {
   "cell_type": "code",
   "execution_count": 76,
   "id": "dc7687c8-c37c-44d5-abfb-92b712f0d80d",
   "metadata": {},
   "outputs": [
    {
     "ename": "SyntaxError",
     "evalue": "invalid syntax. Perhaps you forgot a comma? (465000334.py, line 1)",
     "output_type": "error",
     "traceback": [
      "\u001b[0;36m  Cell \u001b[0;32mIn[76], line 1\u001b[0;36m\u001b[0m\n\u001b[0;31m    s3 ={345,4444,5654,6786.789.9876,\"subho\",34,2432}\u001b[0m\n\u001b[0m                       ^\u001b[0m\n\u001b[0;31mSyntaxError\u001b[0m\u001b[0;31m:\u001b[0m invalid syntax. Perhaps you forgot a comma?\n"
     ]
    }
   ],
   "source": [
    "s3 ={345,4444,5654,6786.789.9876,\"subho\",34,2432}\n"
   ]
  },
  {
   "cell_type": "code",
   "execution_count": 75,
   "id": "c55d30a8-6bea-4e81-bc9f-066c3770ea03",
   "metadata": {},
   "outputs": [
    {
     "ename": "NameError",
     "evalue": "name 's3' is not defined",
     "output_type": "error",
     "traceback": [
      "\u001b[0;31m---------------------------------------------------------------------------\u001b[0m",
      "\u001b[0;31mNameError\u001b[0m                                 Traceback (most recent call last)",
      "Cell \u001b[0;32mIn[75], line 1\u001b[0m\n\u001b[0;32m----> 1\u001b[0m \u001b[43ms3\u001b[49m\n",
      "\u001b[0;31mNameError\u001b[0m: name 's3' is not defined"
     ]
    }
   ],
   "source": [
    "s3"
   ]
  },
  {
   "cell_type": "code",
   "execution_count": 77,
   "id": "49a41243-2a5d-48a9-9336-9d46bee1d5e9",
   "metadata": {},
   "outputs": [],
   "source": [
    "d= {}"
   ]
  },
  {
   "cell_type": "code",
   "execution_count": 78,
   "id": "4ce19adb-9821-4c76-8830-c81392e01068",
   "metadata": {},
   "outputs": [
    {
     "data": {
      "text/plain": [
       "dict"
      ]
     },
     "execution_count": 78,
     "metadata": {},
     "output_type": "execute_result"
    }
   ],
   "source": [
    "type(d)"
   ]
  },
  {
   "cell_type": "code",
   "execution_count": 87,
   "id": "a9614aa3-ad4b-4934-ab46-5a228373f500",
   "metadata": {},
   "outputs": [],
   "source": [
    "d1={\"name\" : \"subho\",\"subject\":[\"data science\", \"big data\"],\"number\":123456742 }\n"
   ]
  },
  {
   "cell_type": "code",
   "execution_count": 81,
   "id": "61c4e88d-b9db-45c3-af60-e0a4898f5d2e",
   "metadata": {},
   "outputs": [
    {
     "ename": "NameError",
     "evalue": "name 'd1' is not defined",
     "output_type": "error",
     "traceback": [
      "\u001b[0;31m---------------------------------------------------------------------------\u001b[0m",
      "\u001b[0;31mNameError\u001b[0m                                 Traceback (most recent call last)",
      "Cell \u001b[0;32mIn[81], line 1\u001b[0m\n\u001b[0;32m----> 1\u001b[0m \u001b[43md1\u001b[49m\n",
      "\u001b[0;31mNameError\u001b[0m: name 'd1' is not defined"
     ]
    }
   ],
   "source": [
    "d1"
   ]
  },
  {
   "cell_type": "code",
   "execution_count": 85,
   "id": "ff49908a-0722-46ed-8bc4-5e93260d2dd1",
   "metadata": {},
   "outputs": [
    {
     "ename": "NameError",
     "evalue": "name 'd1' is not defined",
     "output_type": "error",
     "traceback": [
      "\u001b[0;31m---------------------------------------------------------------------------\u001b[0m",
      "\u001b[0;31mNameError\u001b[0m                                 Traceback (most recent call last)",
      "Cell \u001b[0;32mIn[85], line 1\u001b[0m\n\u001b[0;32m----> 1\u001b[0m \u001b[43md1\u001b[49m\n",
      "\u001b[0;31mNameError\u001b[0m: name 'd1' is not defined"
     ]
    }
   ],
   "source": [
    "d1"
   ]
  },
  {
   "cell_type": "code",
   "execution_count": 88,
   "id": "547abc49-20ad-4249-b37f-faa65250ebe6",
   "metadata": {},
   "outputs": [
    {
     "data": {
      "text/plain": [
       "{'name': 'subho', 'subject': ['data science', 'big data'], 'number': 123456742}"
      ]
     },
     "execution_count": 88,
     "metadata": {},
     "output_type": "execute_result"
    }
   ],
   "source": [
    "d1"
   ]
  },
  {
   "cell_type": "code",
   "execution_count": 90,
   "id": "32854cb3-2e62-4cfb-88f8-1191f431cdce",
   "metadata": {},
   "outputs": [
    {
     "ename": "SyntaxError",
     "evalue": "invalid syntax. Perhaps you forgot a comma? (3906871085.py, line 1)",
     "output_type": "error",
     "traceback": [
      "\u001b[0;36m  Cell \u001b[0;32mIn[90], line 1\u001b[0;36m\u001b[0m\n\u001b[0;31m    d2 = {\"name':\"kat\", \"name\" : raj\"}\u001b[0m\n\u001b[0m          ^\u001b[0m\n\u001b[0;31mSyntaxError\u001b[0m\u001b[0;31m:\u001b[0m invalid syntax. Perhaps you forgot a comma?\n"
     ]
    }
   ],
   "source": [
    "d2 = {\"name':\"kat\", \"\" : raj\"}"
   ]
  },
  {
   "cell_type": "code",
   "execution_count": 91,
   "id": "9804da62-9d53-496c-a857-5332e868a93d",
   "metadata": {},
   "outputs": [],
   "source": [
    "d3={12345 : \"subho\"}"
   ]
  },
  {
   "cell_type": "code",
   "execution_count": 92,
   "id": "83ced901-767a-4c64-9280-672042b6c166",
   "metadata": {},
   "outputs": [
    {
     "ename": "SyntaxError",
     "evalue": "invalid syntax (2164523628.py, line 1)",
     "output_type": "error",
     "traceback": [
      "\u001b[0;36m  Cell \u001b[0;32mIn[92], line 1\u001b[0;36m\u001b[0m\n\u001b[0;31m    d3{[ 1,2,3,4,5,],\"subho\"}\u001b[0m\n\u001b[0m      ^\u001b[0m\n\u001b[0;31mSyntaxError\u001b[0m\u001b[0;31m:\u001b[0m invalid syntax\n"
     ]
    }
   ],
   "source": [
    "d3{[ 1,2,3,4,5,],\"subho\"}"
   ]
  },
  {
   "cell_type": "code",
   "execution_count": 93,
   "id": "9a10c193-9b26-4635-bd8f-bc2bd0e6c0f4",
   "metadata": {},
   "outputs": [],
   "source": [
    "d3 ={(2,34,56,)}"
   ]
  },
  {
   "cell_type": "code",
   "execution_count": 94,
   "id": "c14313e8-9800-4d8f-9bb7-3e57f6a8486c",
   "metadata": {},
   "outputs": [
    {
     "ename": "SyntaxError",
     "evalue": "invalid syntax (3410080928.py, line 1)",
     "output_type": "error",
     "traceback": [
      "\u001b[0;36m  Cell \u001b[0;32mIn[94], line 1\u001b[0;36m\u001b[0m\n\u001b[0;31m    d3{fgsg:\"subho\"}\u001b[0m\n\u001b[0m      ^\u001b[0m\n\u001b[0;31mSyntaxError\u001b[0m\u001b[0;31m:\u001b[0m invalid syntax\n"
     ]
    }
   ],
   "source": [
    "d3{fgsg:\"subho\"}"
   ]
  },
  {
   "cell_type": "code",
   "execution_count": 111,
   "id": "ba6948ab-fdd9-4d58-b9b5-b62ac6211874",
   "metadata": {},
   "outputs": [
    {
     "ename": "SyntaxError",
     "evalue": "unterminated string literal (detected at line 1) (595077598.py, line 1)",
     "output_type": "error",
     "traceback": [
      "\u001b[0;36m  Cell \u001b[0;32mIn[111], line 1\u001b[0;36m\u001b[0m\n\u001b[0;31m    d4= {\"course\" :[\"dsa\", \"java\", \"cloud\"], \"mentor\" : (\"sudh\", \"krish\", \"sunny\"), \"price\" : {3456,6678,7790,66780},\"syllabus\":{\"python\":[ \"core python\", \"numpay\u001b[0m\n\u001b[0m                                                                                                                                                           ^\u001b[0m\n\u001b[0;31mSyntaxError\u001b[0m\u001b[0;31m:\u001b[0m unterminated string literal (detected at line 1)\n"
     ]
    }
   ],
   "source": [
    "d4= {\"course\" :[\"dsa\", \"java\", \"cloud\"], \"mentor\" : (\"sudh\", \"krish\", \"sunny\"), \"price\" : {3456,6678,7790,66780},\"syllabus\":{\"python\":[ \"core python\", \"numpay\n",
    "                                                                                                                                       \"] } }"
   ]
  },
  {
   "cell_type": "markdown",
   "id": "77cf9a1f-ca4b-4dc1-a38f-1307fc7e9b05",
   "metadata": {},
   "source": [
    "## "
   ]
  },
  {
   "cell_type": "code",
   "execution_count": 104,
   "id": "ee5cd074-2fd0-4f91-b3b1-d3fb62158c59",
   "metadata": {},
   "outputs": [
    {
     "data": {
      "text/plain": [
       "{'course': ['dsa', 'java', 'cloud'],\n",
       " 'mentor': ('sudh', 'krish', 'sunny'),\n",
       " 'price': {3456, 6678, 7790, 66780}}"
      ]
     },
     "execution_count": 104,
     "metadata": {},
     "output_type": "execute_result"
    }
   ],
   "source": [
    "d4"
   ]
  },
  {
   "cell_type": "code",
   "execution_count": 105,
   "id": "49c8e023-d9e0-4176-95a3-1d6970597ab7",
   "metadata": {},
   "outputs": [
    {
     "data": {
      "text/plain": [
       "['dsa', 'java', 'cloud']"
      ]
     },
     "execution_count": 105,
     "metadata": {},
     "output_type": "execute_result"
    }
   ],
   "source": [
    "d4 [\"course\"]"
   ]
  },
  {
   "cell_type": "code",
   "execution_count": 106,
   "id": "a2a4a96c-2833-41de-a8a8-6e8da858d12c",
   "metadata": {},
   "outputs": [
    {
     "data": {
      "text/plain": [
       "('sudh', 'krish', 'sunny')"
      ]
     },
     "execution_count": 106,
     "metadata": {},
     "output_type": "execute_result"
    }
   ],
   "source": [
    "d4[\"mentor\"]"
   ]
  },
  {
   "cell_type": "code",
   "execution_count": 108,
   "id": "379a7c72-c9e2-4113-85a0-62abb200b93a",
   "metadata": {},
   "outputs": [
    {
     "data": {
      "text/plain": [
       "{3456, 6678, 7790, 66780}"
      ]
     },
     "execution_count": 108,
     "metadata": {},
     "output_type": "execute_result"
    }
   ],
   "source": [
    "d4[\"price\"]"
   ]
  },
  {
   "cell_type": "code",
   "execution_count": 112,
   "id": "2e13099a-8f7b-44b7-9e62-a771882337ad",
   "metadata": {},
   "outputs": [
    {
     "ename": "NameError",
     "evalue": "name 'd2' is not defined",
     "output_type": "error",
     "traceback": [
      "\u001b[0;31m---------------------------------------------------------------------------\u001b[0m",
      "\u001b[0;31mNameError\u001b[0m                                 Traceback (most recent call last)",
      "Cell \u001b[0;32mIn[112], line 1\u001b[0m\n\u001b[0;32m----> 1\u001b[0m \u001b[43md2\u001b[49m\n",
      "\u001b[0;31mNameError\u001b[0m: name 'd2' is not defined"
     ]
    }
   ],
   "source": [
    "d2"
   ]
  },
  {
   "cell_type": "code",
   "execution_count": 113,
   "id": "ad68d6b6-4227-4040-9e25-b56d83f27a5d",
   "metadata": {},
   "outputs": [
    {
     "data": {
      "text/plain": [
       "{'name': 'subho', 'subject': ['data science', 'big data'], 'number': 123456742}"
      ]
     },
     "execution_count": 113,
     "metadata": {},
     "output_type": "execute_result"
    }
   ],
   "source": [
    "d1"
   ]
  },
  {
   "cell_type": "code",
   "execution_count": 114,
   "id": "d5185103-2c37-4e4a-96fc-9e45ffcfab59",
   "metadata": {},
   "outputs": [],
   "source": [
    "d1['phone number']= 7047032600\n"
   ]
  },
  {
   "cell_type": "code",
   "execution_count": 115,
   "id": "1ff12203-0fef-4b12-b80b-4ff1e7b6b9b3",
   "metadata": {},
   "outputs": [
    {
     "data": {
      "text/plain": [
       "{'name': 'subho',\n",
       " 'subject': ['data science', 'big data'],\n",
       " 'number': 123456742,\n",
       " 'phone number': 7047032600}"
      ]
     },
     "execution_count": 115,
     "metadata": {},
     "output_type": "execute_result"
    }
   ],
   "source": [
    "d1"
   ]
  },
  {
   "cell_type": "code",
   "execution_count": 117,
   "id": "6f00edd4-622a-4975-862f-1c1ccc22f78b",
   "metadata": {},
   "outputs": [],
   "source": [
    "d1['name']= \"raj\""
   ]
  },
  {
   "cell_type": "code",
   "execution_count": 118,
   "id": "0157a794-bef9-4bb6-98b2-5dd6348b6719",
   "metadata": {},
   "outputs": [
    {
     "data": {
      "text/plain": [
       "{'name': 'raj',\n",
       " 'subject': ['data science', 'big data'],\n",
       " 'number': 123456742,\n",
       " 'phone number': 7047032600}"
      ]
     },
     "execution_count": 118,
     "metadata": {},
     "output_type": "execute_result"
    }
   ],
   "source": [
    "d1"
   ]
  },
  {
   "cell_type": "code",
   "execution_count": 120,
   "id": "9cf1b3fe-c857-4536-a60b-76a35c4b6f7a",
   "metadata": {},
   "outputs": [
    {
     "ename": "SyntaxError",
     "evalue": "invalid decimal literal (1190676087.py, line 3)",
     "output_type": "error",
     "traceback": [
      "\u001b[0;36m  Cell \u001b[0;32mIn[120], line 3\u001b[0;36m\u001b[0m\n\u001b[0;31m    3.tuple\u001b[0m\n\u001b[0m     ^\u001b[0m\n\u001b[0;31mSyntaxError\u001b[0m\u001b[0;31m:\u001b[0m invalid decimal literal\n"
     ]
    }
   ],
   "source": [
    "1. string\n",
    "2 list\n",
    "3.tuple\n",
    "4.set\n",
    "5.dict"
   ]
  },
  {
   "cell_type": "code",
   "execution_count": 121,
   "id": "330fce99-85ce-4a65-a264-dfbc7d0241b9",
   "metadata": {},
   "outputs": [],
   "source": [
    "s1 = \"pwskills\""
   ]
  },
  {
   "cell_type": "code",
   "execution_count": 122,
   "id": "59fac79d-7fd3-473d-a291-17f2a00cbedb",
   "metadata": {},
   "outputs": [
    {
     "data": {
      "text/plain": [
       "2"
      ]
     },
     "execution_count": 122,
     "metadata": {},
     "output_type": "execute_result"
    }
   ],
   "source": [
    "s1.count(\"l\")"
   ]
  },
  {
   "cell_type": "code",
   "execution_count": 123,
   "id": "6a266f2e-571f-4e18-8ed7-fc58718b1cc4",
   "metadata": {},
   "outputs": [
    {
     "data": {
      "text/plain": [
       "2"
      ]
     },
     "execution_count": 123,
     "metadata": {},
     "output_type": "execute_result"
    }
   ],
   "source": [
    "s1.find(\"s\")"
   ]
  },
  {
   "cell_type": "code",
   "execution_count": 125,
   "id": "9f251749-87ee-4086-a0d9-a68497460016",
   "metadata": {},
   "outputs": [
    {
     "data": {
      "text/plain": [
       "0"
      ]
     },
     "execution_count": 125,
     "metadata": {},
     "output_type": "execute_result"
    }
   ],
   "source": [
    "s1.index(\"p\")"
   ]
  },
  {
   "cell_type": "code",
   "execution_count": 126,
   "id": "fae80850-4ecf-4d06-8761-716ce24c4bea",
   "metadata": {},
   "outputs": [
    {
     "data": {
      "text/plain": [
       "2"
      ]
     },
     "execution_count": 126,
     "metadata": {},
     "output_type": "execute_result"
    }
   ],
   "source": [
    "s1.index(\"s\")"
   ]
  },
  {
   "cell_type": "code",
   "execution_count": 127,
   "id": "3b96b838-383c-42b2-9479-94da85838462",
   "metadata": {},
   "outputs": [
    {
     "ename": "ValueError",
     "evalue": "substring not found",
     "output_type": "error",
     "traceback": [
      "\u001b[0;31m---------------------------------------------------------------------------\u001b[0m",
      "\u001b[0;31mValueError\u001b[0m                                Traceback (most recent call last)",
      "Cell \u001b[0;32mIn[127], line 1\u001b[0m\n\u001b[0;32m----> 1\u001b[0m \u001b[43ms1\u001b[49m\u001b[38;5;241;43m.\u001b[39;49m\u001b[43mindex\u001b[49m\u001b[43m(\u001b[49m\u001b[38;5;124;43m'\u001b[39;49m\u001b[38;5;124;43mz\u001b[39;49m\u001b[38;5;124;43m'\u001b[39;49m\u001b[43m)\u001b[49m\n",
      "\u001b[0;31mValueError\u001b[0m: substring not found"
     ]
    }
   ],
   "source": [
    "s1.index('z')"
   ]
  },
  {
   "cell_type": "code",
   "execution_count": 128,
   "id": "6d469b40-dc1a-43fd-af9c-0d629ee4b528",
   "metadata": {},
   "outputs": [
    {
     "data": {
      "text/plain": [
       "-1"
      ]
     },
     "execution_count": 128,
     "metadata": {},
     "output_type": "execute_result"
    }
   ],
   "source": [
    "s1.find('z')"
   ]
  },
  {
   "cell_type": "code",
   "execution_count": 129,
   "id": "c5f2a4dc-23d5-475e-b044-62a855c93652",
   "metadata": {},
   "outputs": [
    {
     "data": {
      "text/plain": [
       "'pwskills'"
      ]
     },
     "execution_count": 129,
     "metadata": {},
     "output_type": "execute_result"
    }
   ],
   "source": [
    "s1"
   ]
  },
  {
   "cell_type": "code",
   "execution_count": 130,
   "id": "a54956ea-272d-4856-b55e-bb5c5ebcf866",
   "metadata": {},
   "outputs": [
    {
     "data": {
      "text/plain": [
       "'PWSKILLS'"
      ]
     },
     "execution_count": 130,
     "metadata": {},
     "output_type": "execute_result"
    }
   ],
   "source": [
    "s1.upper()"
   ]
  },
  {
   "cell_type": "code",
   "execution_count": 131,
   "id": "c36cc92b-0b4a-4dad-8467-b1a01d383aaa",
   "metadata": {},
   "outputs": [
    {
     "data": {
      "text/plain": [
       "'pwskills'"
      ]
     },
     "execution_count": 131,
     "metadata": {},
     "output_type": "execute_result"
    }
   ],
   "source": [
    "s1.lower()"
   ]
  },
  {
   "cell_type": "code",
   "execution_count": 132,
   "id": "8ffbf728-4e77-478b-8d75-7d0ee8bd1aed",
   "metadata": {},
   "outputs": [
    {
     "data": {
      "text/plain": [
       "'Pwskills'"
      ]
     },
     "execution_count": 132,
     "metadata": {},
     "output_type": "execute_result"
    }
   ],
   "source": [
    "s1.title()"
   ]
  },
  {
   "cell_type": "code",
   "execution_count": 133,
   "id": "52886cf2-bfab-4ea8-ac32-f5bcba839a91",
   "metadata": {},
   "outputs": [],
   "source": [
    "s2= \" my name is subho\""
   ]
  },
  {
   "cell_type": "code",
   "execution_count": 134,
   "id": "47def82e-6b79-4779-81ae-003b5286ddcf",
   "metadata": {},
   "outputs": [
    {
     "data": {
      "text/plain": [
       "' My Name Is Subho'"
      ]
     },
     "execution_count": 134,
     "metadata": {},
     "output_type": "execute_result"
    }
   ],
   "source": [
    "s2.title()"
   ]
  },
  {
   "cell_type": "code",
   "execution_count": 135,
   "id": "ee231024-076e-44c5-99da-0ea45269a546",
   "metadata": {},
   "outputs": [
    {
     "data": {
      "text/plain": [
       "['my', 'name', 'is', 'subho']"
      ]
     },
     "execution_count": 135,
     "metadata": {},
     "output_type": "execute_result"
    }
   ],
   "source": [
    "s2.split()"
   ]
  },
  {
   "cell_type": "code",
   "execution_count": 136,
   "id": "72b33c36-524a-4cc1-954c-21f749e5383f",
   "metadata": {},
   "outputs": [],
   "source": [
    "s3= \"my name,is,subho,raj\""
   ]
  },
  {
   "cell_type": "code",
   "execution_count": 138,
   "id": "aa74664c-aae9-486e-b111-4640d0639a03",
   "metadata": {},
   "outputs": [
    {
     "data": {
      "text/plain": [
       "['my', 'name,', 'is', ',', 'subho,', 'raj']"
      ]
     },
     "execution_count": 138,
     "metadata": {},
     "output_type": "execute_result"
    }
   ],
   "source": [
    "s3.split()"
   ]
  },
  {
   "cell_type": "code",
   "execution_count": 139,
   "id": "84d16675-07c8-4ecf-96c1-abd55981cd37",
   "metadata": {},
   "outputs": [
    {
     "data": {
      "text/plain": [
       "['my name, i', ' , ', 'ubho, raj']"
      ]
     },
     "execution_count": 139,
     "metadata": {},
     "output_type": "execute_result"
    }
   ],
   "source": [
    "s3.split('s')"
   ]
  },
  {
   "cell_type": "code",
   "execution_count": 140,
   "id": "b062e542-d0de-45a3-a387-dabdc39740fe",
   "metadata": {},
   "outputs": [],
   "source": [
    "s4= \" this is my fsds pro class. i am attending this class for time\""
   ]
  },
  {
   "cell_type": "code",
   "execution_count": 141,
   "id": "12de7de2-d06d-4c32-a74e-772d5a27a99d",
   "metadata": {},
   "outputs": [
    {
     "data": {
      "text/plain": [
       "[' this is my fsds pro class', ' i am attending this class for time']"
      ]
     },
     "execution_count": 141,
     "metadata": {},
     "output_type": "execute_result"
    }
   ],
   "source": [
    "s4.split(\".\")"
   ]
  },
  {
   "cell_type": "code",
   "execution_count": 142,
   "id": "2cb5ca1b-26a8-430c-8722-fa80523c057a",
   "metadata": {},
   "outputs": [
    {
     "data": {
      "text/plain": [
       "[' this is my fsds pro class. i am attending this class for time']"
      ]
     },
     "execution_count": 142,
     "metadata": {},
     "output_type": "execute_result"
    }
   ],
   "source": [
    "s4.split('0')"
   ]
  },
  {
   "cell_type": "code",
   "execution_count": 143,
   "id": "4ef5151d-2e0f-4d9a-9fcf-54c694cf7675",
   "metadata": {},
   "outputs": [
    {
     "data": {
      "text/plain": [
       "' my name is subho'"
      ]
     },
     "execution_count": 143,
     "metadata": {},
     "output_type": "execute_result"
    }
   ],
   "source": [
    "s2"
   ]
  },
  {
   "cell_type": "code",
   "execution_count": 144,
   "id": "1f56adf6-da29-497b-a51b-455aa0812ded",
   "metadata": {},
   "outputs": [
    {
     "ename": "AttributeError",
     "evalue": "'str' object has no attribute 'capitalised'",
     "output_type": "error",
     "traceback": [
      "\u001b[0;31m---------------------------------------------------------------------------\u001b[0m",
      "\u001b[0;31mAttributeError\u001b[0m                            Traceback (most recent call last)",
      "Cell \u001b[0;32mIn[144], line 1\u001b[0m\n\u001b[0;32m----> 1\u001b[0m \u001b[43ms2\u001b[49m\u001b[38;5;241;43m.\u001b[39;49m\u001b[43mcapitalised\u001b[49m()\n",
      "\u001b[0;31mAttributeError\u001b[0m: 'str' object has no attribute 'capitalised'"
     ]
    }
   ],
   "source": [
    "s2.capitalised()"
   ]
  },
  {
   "cell_type": "code",
   "execution_count": 145,
   "id": "38a7b0b2-ffeb-4d52-a4e6-4165a3a0fced",
   "metadata": {},
   "outputs": [
    {
     "data": {
      "text/plain": [
       "' my aame is subho'"
      ]
     },
     "execution_count": 145,
     "metadata": {},
     "output_type": "execute_result"
    }
   ],
   "source": [
    "s2.replace('n','a')"
   ]
  },
  {
   "cell_type": "code",
   "execution_count": 146,
   "id": "a2d2437b-f09b-470e-aab0-3f38a17ba242",
   "metadata": {},
   "outputs": [
    {
     "data": {
      "text/plain": [
       "' my name is subho'"
      ]
     },
     "execution_count": 146,
     "metadata": {},
     "output_type": "execute_result"
    }
   ],
   "source": [
    "s2"
   ]
  },
  {
   "cell_type": "code",
   "execution_count": 147,
   "id": "c4ea17c0-4e30-4da7-a5cc-d06238396c07",
   "metadata": {},
   "outputs": [
    {
     "data": {
      "text/plain": [
       "'pwskills'"
      ]
     },
     "execution_count": 147,
     "metadata": {},
     "output_type": "execute_result"
    }
   ],
   "source": [
    "s1"
   ]
  },
  {
   "cell_type": "code",
   "execution_count": 148,
   "id": "e9aef8ab-a604-4e16-b22c-6b52a8c71a36",
   "metadata": {},
   "outputs": [
    {
     "data": {
      "text/plain": [
       "'ffffffffffffffffpwskillsffffffffffffffff'"
      ]
     },
     "execution_count": 148,
     "metadata": {},
     "output_type": "execute_result"
    }
   ],
   "source": [
    "s1.center(40,'f')"
   ]
  },
  {
   "cell_type": "code",
   "execution_count": 149,
   "id": "6d2ac15c-8b86-492e-a837-429a34ad69f8",
   "metadata": {},
   "outputs": [
    {
     "data": {
      "text/plain": [
       "'ffffffffffffffffffffffffffffffffffffffffffffffpwskillsffffffffffffffffffffffffffffffffffffffffffffff'"
      ]
     },
     "execution_count": 149,
     "metadata": {},
     "output_type": "execute_result"
    }
   ],
   "source": [
    "s1.center(100,'f')"
   ]
  },
  {
   "cell_type": "code",
   "execution_count": 150,
   "id": "7d6f60ff-e774-4c7c-89f8-1baa25dba1fb",
   "metadata": {},
   "outputs": [
    {
     "data": {
      "text/plain": [
       "'pwskills'"
      ]
     },
     "execution_count": 150,
     "metadata": {},
     "output_type": "execute_result"
    }
   ],
   "source": [
    "s1.rstrip()"
   ]
  },
  {
   "cell_type": "code",
   "execution_count": 152,
   "id": "5edc66fd-7dd9-4196-8bfd-85e736152c1f",
   "metadata": {},
   "outputs": [],
   "source": [
    "s5= \"   pwskills  \""
   ]
  },
  {
   "cell_type": "code",
   "execution_count": 153,
   "id": "64cf1d82-1863-48c0-b7fa-a26753b5403d",
   "metadata": {},
   "outputs": [
    {
     "data": {
      "text/plain": [
       "'pwskills  '"
      ]
     },
     "execution_count": 153,
     "metadata": {},
     "output_type": "execute_result"
    }
   ],
   "source": [
    "s5.lstrip()"
   ]
  },
  {
   "cell_type": "code",
   "execution_count": 154,
   "id": "cb70f647-1a38-40ac-a949-f73326b916e2",
   "metadata": {},
   "outputs": [
    {
     "data": {
      "text/plain": [
       "'   pwskills'"
      ]
     },
     "execution_count": 154,
     "metadata": {},
     "output_type": "execute_result"
    }
   ],
   "source": [
    "s5.rstrip()"
   ]
  },
  {
   "cell_type": "code",
   "execution_count": 155,
   "id": "39c860ed-0a99-484d-8212-fefa910b2f3c",
   "metadata": {},
   "outputs": [
    {
     "data": {
      "text/plain": [
       "'pwskills'"
      ]
     },
     "execution_count": 155,
     "metadata": {},
     "output_type": "execute_result"
    }
   ],
   "source": [
    "s5.strip()"
   ]
  },
  {
   "cell_type": "code",
   "execution_count": 156,
   "id": "db6370c6-cd2d-4e33-ba65-be4519270dd6",
   "metadata": {},
   "outputs": [
    {
     "data": {
      "text/plain": [
       "' my name is subho'"
      ]
     },
     "execution_count": 156,
     "metadata": {},
     "output_type": "execute_result"
    }
   ],
   "source": [
    "s2"
   ]
  },
  {
   "cell_type": "code",
   "execution_count": 157,
   "id": "cf64456d-f077-4f1d-b76b-22dd98a4d0ba",
   "metadata": {},
   "outputs": [
    {
     "data": {
      "text/plain": [
       "'pwskills'"
      ]
     },
     "execution_count": 157,
     "metadata": {},
     "output_type": "execute_result"
    }
   ],
   "source": [
    "s1"
   ]
  },
  {
   "cell_type": "code",
   "execution_count": 159,
   "id": "62e71ae8-074e-4ea5-9da7-b008309e55ba",
   "metadata": {},
   "outputs": [
    {
     "data": {
      "text/plain": [
       "True"
      ]
     },
     "execution_count": 159,
     "metadata": {},
     "output_type": "execute_result"
    }
   ],
   "source": [
    "s1.isalnum()"
   ]
  },
  {
   "cell_type": "code",
   "execution_count": 160,
   "id": "b8669d1c-9db1-4180-8369-986829ff0e27",
   "metadata": {},
   "outputs": [
    {
     "data": {
      "text/plain": [
       "True"
      ]
     },
     "execution_count": 160,
     "metadata": {},
     "output_type": "execute_result"
    }
   ],
   "source": [
    "s1.isalpha()"
   ]
  },
  {
   "cell_type": "code",
   "execution_count": 162,
   "id": "a8cced66-d3d8-4262-b317-7ed602a75c32",
   "metadata": {},
   "outputs": [
    {
     "data": {
      "text/plain": [
       "False"
      ]
     },
     "execution_count": 162,
     "metadata": {},
     "output_type": "execute_result"
    }
   ],
   "source": [
    "s1.isspace()"
   ]
  },
  {
   "cell_type": "code",
   "execution_count": 163,
   "id": "e35b57aa-35bc-444f-9000-a2ff11f53bef",
   "metadata": {},
   "outputs": [
    {
     "data": {
      "text/plain": [
       "[1, 2, 3, 4, 5, 'subho', 'raj', (3+6j), 345, 565, True]"
      ]
     },
     "execution_count": 163,
     "metadata": {},
     "output_type": "execute_result"
    }
   ],
   "source": [
    "ll"
   ]
  },
  {
   "cell_type": "code",
   "execution_count": 164,
   "id": "6c7e2956-31a8-46f6-843f-dcf38998c0a7",
   "metadata": {},
   "outputs": [
    {
     "data": {
      "text/plain": [
       "[300, 4, 5, 'pwskills', 'subho']"
      ]
     },
     "execution_count": 164,
     "metadata": {},
     "output_type": "execute_result"
    }
   ],
   "source": [
    "l2"
   ]
  },
  {
   "cell_type": "code",
   "execution_count": 165,
   "id": "12a0ed03-52db-4abc-bf50-fad404785539",
   "metadata": {},
   "outputs": [],
   "source": [
    "ll.append(\"subho\")"
   ]
  },
  {
   "cell_type": "code",
   "execution_count": 166,
   "id": "05d8cd60-6237-4342-b2f5-ae8d4f41bfa4",
   "metadata": {},
   "outputs": [
    {
     "data": {
      "text/plain": [
       "[1, 2, 3, 4, 5, 'subho', 'raj', (3+6j), 345, 565, True, 'subho']"
      ]
     },
     "execution_count": 166,
     "metadata": {},
     "output_type": "execute_result"
    }
   ],
   "source": [
    "ll"
   ]
  },
  {
   "cell_type": "code",
   "execution_count": 168,
   "id": "cb374089-819b-4d20-b4e4-cbd8b191b387",
   "metadata": {},
   "outputs": [],
   "source": [
    "ll.insert(3,'pwskills')"
   ]
  },
  {
   "cell_type": "code",
   "execution_count": 169,
   "id": "e32d7bd1-a6b2-4ab9-9332-7dc37927cd1d",
   "metadata": {},
   "outputs": [
    {
     "data": {
      "text/plain": [
       "[1, 2, 3, 'pwskills', 4, 5, 'subho', 'raj', (3+6j), 345, 565, True, 'subho']"
      ]
     },
     "execution_count": 169,
     "metadata": {},
     "output_type": "execute_result"
    }
   ],
   "source": [
    "ll"
   ]
  },
  {
   "cell_type": "code",
   "execution_count": 170,
   "id": "81b5412b-24cc-4ae8-85fc-f0628cb2b0aa",
   "metadata": {},
   "outputs": [],
   "source": [
    "l2.extend('subho')"
   ]
  },
  {
   "cell_type": "code",
   "execution_count": 171,
   "id": "489da961-045b-4dbb-b005-53b796f51c66",
   "metadata": {},
   "outputs": [
    {
     "data": {
      "text/plain": [
       "[300, 4, 5, 'pwskills', 'subho', 's', 'u', 'b', 'h', 'o']"
      ]
     },
     "execution_count": 171,
     "metadata": {},
     "output_type": "execute_result"
    }
   ],
   "source": [
    "l2"
   ]
  },
  {
   "cell_type": "code",
   "execution_count": 173,
   "id": "0e6dcd78-dac0-4435-81ac-07b7aed3db36",
   "metadata": {},
   "outputs": [],
   "source": [
    "l2.append('subho')"
   ]
  },
  {
   "cell_type": "code",
   "execution_count": 174,
   "id": "ba05d412-ed49-45bf-8c2f-929c814f6602",
   "metadata": {},
   "outputs": [
    {
     "data": {
      "text/plain": [
       "[300, 4, 5, 'pwskills', 'subho', 's', 'u', 'b', 'h', 'o', 'subho']"
      ]
     },
     "execution_count": 174,
     "metadata": {},
     "output_type": "execute_result"
    }
   ],
   "source": [
    "l2"
   ]
  },
  {
   "cell_type": "code",
   "execution_count": 175,
   "id": "4f009175-fb89-483f-a678-2a698d01be72",
   "metadata": {},
   "outputs": [],
   "source": [
    "l2.insert(2,\"subho\")"
   ]
  },
  {
   "cell_type": "code",
   "execution_count": 176,
   "id": "149e5f61-61bf-4cc1-ae65-a0255b6c5b1d",
   "metadata": {},
   "outputs": [
    {
     "data": {
      "text/plain": [
       "[300, 4, 'subho', 5, 'pwskills', 'subho', 's', 'u', 'b', 'h', 'o', 'subho']"
      ]
     },
     "execution_count": 176,
     "metadata": {},
     "output_type": "execute_result"
    }
   ],
   "source": [
    "l2"
   ]
  },
  {
   "cell_type": "code",
   "execution_count": 177,
   "id": "336748fd-a176-4b3d-bb42-ef53fdbcba3c",
   "metadata": {},
   "outputs": [],
   "source": [
    "l2.extend('subho')"
   ]
  },
  {
   "cell_type": "code",
   "execution_count": 178,
   "id": "cc45a0dc-0363-4fcb-8e72-b334a0df6415",
   "metadata": {},
   "outputs": [
    {
     "data": {
      "text/plain": [
       "[300,\n",
       " 4,\n",
       " 'subho',\n",
       " 5,\n",
       " 'pwskills',\n",
       " 'subho',\n",
       " 's',\n",
       " 'u',\n",
       " 'b',\n",
       " 'h',\n",
       " 'o',\n",
       " 'subho',\n",
       " 's',\n",
       " 'u',\n",
       " 'b',\n",
       " 'h',\n",
       " 'o']"
      ]
     },
     "execution_count": 178,
     "metadata": {},
     "output_type": "execute_result"
    }
   ],
   "source": [
    "l2"
   ]
  },
  {
   "cell_type": "code",
   "execution_count": 179,
   "id": "46e7161e-662f-431d-97dd-8ff2a75f69d7",
   "metadata": {},
   "outputs": [],
   "source": [
    "l3=[1,2,3,4,5,6,]"
   ]
  },
  {
   "cell_type": "code",
   "execution_count": 180,
   "id": "9ed3fdc0-d3f1-4b5a-94bb-287204b84dea",
   "metadata": {},
   "outputs": [
    {
     "data": {
      "text/plain": [
       "'o'"
      ]
     },
     "execution_count": 180,
     "metadata": {},
     "output_type": "execute_result"
    }
   ],
   "source": [
    "l2.pop()"
   ]
  },
  {
   "cell_type": "code",
   "execution_count": 182,
   "id": "2000e669-584a-4085-a7cc-4711b7c0fe5e",
   "metadata": {},
   "outputs": [
    {
     "data": {
      "text/plain": [
       "'subho'"
      ]
     },
     "execution_count": 182,
     "metadata": {},
     "output_type": "execute_result"
    }
   ],
   "source": [
    "l2.pop(5)"
   ]
  },
  {
   "cell_type": "code",
   "execution_count": 183,
   "id": "e2a577ba-0506-490b-a3a5-d476dd05d49a",
   "metadata": {},
   "outputs": [],
   "source": [
    "del l2"
   ]
  },
  {
   "cell_type": "code",
   "execution_count": 184,
   "id": "5da06fa8-b63b-4a58-a237-8778ed3b06b7",
   "metadata": {},
   "outputs": [
    {
     "ename": "NameError",
     "evalue": "name 'l2' is not defined",
     "output_type": "error",
     "traceback": [
      "\u001b[0;31m---------------------------------------------------------------------------\u001b[0m",
      "\u001b[0;31mNameError\u001b[0m                                 Traceback (most recent call last)",
      "Cell \u001b[0;32mIn[184], line 1\u001b[0m\n\u001b[0;32m----> 1\u001b[0m \u001b[43ml2\u001b[49m\n",
      "\u001b[0;31mNameError\u001b[0m: name 'l2' is not defined"
     ]
    }
   ],
   "source": [
    "l2"
   ]
  },
  {
   "cell_type": "code",
   "execution_count": 185,
   "id": "5280b218-5808-4a72-9b7e-373f548807d6",
   "metadata": {},
   "outputs": [],
   "source": [
    "del l3"
   ]
  },
  {
   "cell_type": "code",
   "execution_count": 186,
   "id": "3097032f-3329-4f7c-af02-dca3ff1abd8d",
   "metadata": {},
   "outputs": [
    {
     "ename": "NameError",
     "evalue": "name 'l3' is not defined",
     "output_type": "error",
     "traceback": [
      "\u001b[0;31m---------------------------------------------------------------------------\u001b[0m",
      "\u001b[0;31mNameError\u001b[0m                                 Traceback (most recent call last)",
      "Cell \u001b[0;32mIn[186], line 1\u001b[0m\n\u001b[0;32m----> 1\u001b[0m \u001b[43ml3\u001b[49m\n",
      "\u001b[0;31mNameError\u001b[0m: name 'l3' is not defined"
     ]
    }
   ],
   "source": [
    "l3"
   ]
  },
  {
   "cell_type": "code",
   "execution_count": 187,
   "id": "9434bbfd-ae63-47f4-aeed-25607e7af5e3",
   "metadata": {},
   "outputs": [
    {
     "data": {
      "text/plain": [
       "[1, 2, 3, 'pwskills', 4, 5, 'subho', 'raj', (3+6j), 345, 565, True, 'subho']"
      ]
     },
     "execution_count": 187,
     "metadata": {},
     "output_type": "execute_result"
    }
   ],
   "source": [
    "ll"
   ]
  },
  {
   "cell_type": "code",
   "execution_count": 188,
   "id": "63df88cc-ce42-4ec3-8821-44626f80b5a8",
   "metadata": {},
   "outputs": [],
   "source": [
    "ll.remove('raj')"
   ]
  },
  {
   "cell_type": "code",
   "execution_count": 189,
   "id": "996a499d-3c64-4258-bfab-e7b6db175f50",
   "metadata": {},
   "outputs": [
    {
     "data": {
      "text/plain": [
       "[1, 2, 3, 'pwskills', 4, 5, 'subho', (3+6j), 345, 565, True, 'subho']"
      ]
     },
     "execution_count": 189,
     "metadata": {},
     "output_type": "execute_result"
    }
   ],
   "source": [
    "ll"
   ]
  },
  {
   "cell_type": "code",
   "execution_count": 190,
   "id": "33c912ea-f821-4065-a30c-9c73293bfb8d",
   "metadata": {},
   "outputs": [
    {
     "ename": "IndexError",
     "evalue": "pop index out of range",
     "output_type": "error",
     "traceback": [
      "\u001b[0;31m---------------------------------------------------------------------------\u001b[0m",
      "\u001b[0;31mIndexError\u001b[0m                                Traceback (most recent call last)",
      "Cell \u001b[0;32mIn[190], line 1\u001b[0m\n\u001b[0;32m----> 1\u001b[0m \u001b[43mll\u001b[49m\u001b[38;5;241;43m.\u001b[39;49m\u001b[43mpop\u001b[49m\u001b[43m(\u001b[49m\u001b[38;5;241;43m100000\u001b[39;49m\u001b[43m)\u001b[49m\n",
      "\u001b[0;31mIndexError\u001b[0m: pop index out of range"
     ]
    }
   ],
   "source": [
    "ll.pop(100000)"
   ]
  },
  {
   "cell_type": "code",
   "execution_count": 191,
   "id": "64c1cb86-e053-4015-8b3d-ab28c17b55a3",
   "metadata": {},
   "outputs": [],
   "source": [
    "ll.clear()"
   ]
  },
  {
   "cell_type": "code",
   "execution_count": 192,
   "id": "80f07c2f-555d-46ce-a4e3-f59602d475b3",
   "metadata": {},
   "outputs": [
    {
     "data": {
      "text/plain": [
       "[]"
      ]
     },
     "execution_count": 192,
     "metadata": {},
     "output_type": "execute_result"
    }
   ],
   "source": [
    "ll"
   ]
  },
  {
   "cell_type": "code",
   "execution_count": 193,
   "id": "a1762fcf-df68-4839-be31-36f74a51c864",
   "metadata": {},
   "outputs": [
    {
     "data": {
      "text/plain": [
       "'pwskills'"
      ]
     },
     "execution_count": 193,
     "metadata": {},
     "output_type": "execute_result"
    }
   ],
   "source": [
    "s1"
   ]
  },
  {
   "cell_type": "code",
   "execution_count": 194,
   "id": "3589b1cf-1e3b-4e3d-ab6f-85eb59b1077d",
   "metadata": {},
   "outputs": [
    {
     "data": {
      "text/plain": [
       "2"
      ]
     },
     "execution_count": 194,
     "metadata": {},
     "output_type": "execute_result"
    }
   ],
   "source": [
    "s1.count('s')"
   ]
  },
  {
   "cell_type": "code",
   "execution_count": 195,
   "id": "6d3dbd65-baa7-4d16-82e9-8158f5911faa",
   "metadata": {},
   "outputs": [
    {
     "ename": "SyntaxError",
     "evalue": "unterminated string literal (detected at line 1) (3466127908.py, line 1)",
     "output_type": "error",
     "traceback": [
      "\u001b[0;36m  Cell \u001b[0;32mIn[195], line 1\u001b[0;36m\u001b[0m\n\u001b[0;31m    s1.index('s)\u001b[0m\n\u001b[0m             ^\u001b[0m\n\u001b[0;31mSyntaxError\u001b[0m\u001b[0;31m:\u001b[0m unterminated string literal (detected at line 1)\n"
     ]
    }
   ],
   "source": [
    "s1.index('s)"
   ]
  },
  {
   "cell_type": "code",
   "execution_count": 196,
   "id": "fc349aa5-3b22-428d-971a-51e432960472",
   "metadata": {},
   "outputs": [
    {
     "data": {
      "text/plain": [
       "'sllikswp'"
      ]
     },
     "execution_count": 196,
     "metadata": {},
     "output_type": "execute_result"
    }
   ],
   "source": [
    "s1[::-1]"
   ]
  },
  {
   "cell_type": "code",
   "execution_count": 197,
   "id": "a466390f-53a5-4277-94b8-f61d4c9f2f6d",
   "metadata": {},
   "outputs": [
    {
     "ename": "AttributeError",
     "evalue": "'str' object has no attribute 'reverse'",
     "output_type": "error",
     "traceback": [
      "\u001b[0;31m---------------------------------------------------------------------------\u001b[0m",
      "\u001b[0;31mAttributeError\u001b[0m                            Traceback (most recent call last)",
      "Cell \u001b[0;32mIn[197], line 1\u001b[0m\n\u001b[0;32m----> 1\u001b[0m \u001b[43ms1\u001b[49m\u001b[38;5;241;43m.\u001b[39;49m\u001b[43mreverse\u001b[49m()\n",
      "\u001b[0;31mAttributeError\u001b[0m: 'str' object has no attribute 'reverse'"
     ]
    }
   ],
   "source": [
    "s1.reverse()"
   ]
  },
  {
   "cell_type": "code",
   "execution_count": 198,
   "id": "80f0b4b5-399f-4785-aea1-0632c4c41e45",
   "metadata": {},
   "outputs": [
    {
     "ename": "AttributeError",
     "evalue": "'str' object has no attribute 'short'",
     "output_type": "error",
     "traceback": [
      "\u001b[0;31m---------------------------------------------------------------------------\u001b[0m",
      "\u001b[0;31mAttributeError\u001b[0m                            Traceback (most recent call last)",
      "Cell \u001b[0;32mIn[198], line 1\u001b[0m\n\u001b[0;32m----> 1\u001b[0m \u001b[43ms1\u001b[49m\u001b[38;5;241;43m.\u001b[39;49m\u001b[43mshort\u001b[49m()\n",
      "\u001b[0;31mAttributeError\u001b[0m: 'str' object has no attribute 'short'"
     ]
    }
   ],
   "source": [
    "s1.short()"
   ]
  },
  {
   "cell_type": "code",
   "execution_count": 199,
   "id": "989ed5df-c99b-44c5-a681-a55d29808860",
   "metadata": {},
   "outputs": [],
   "source": [
    "l3=[3,4,5,6,3,4,5,6,]"
   ]
  },
  {
   "cell_type": "code",
   "execution_count": 200,
   "id": "5337330e-5059-4f18-a1b4-ac38ae9cfd89",
   "metadata": {},
   "outputs": [
    {
     "ename": "AttributeError",
     "evalue": "'list' object has no attribute 'short'",
     "output_type": "error",
     "traceback": [
      "\u001b[0;31m---------------------------------------------------------------------------\u001b[0m",
      "\u001b[0;31mAttributeError\u001b[0m                            Traceback (most recent call last)",
      "Cell \u001b[0;32mIn[200], line 1\u001b[0m\n\u001b[0;32m----> 1\u001b[0m \u001b[43ml3\u001b[49m\u001b[38;5;241;43m.\u001b[39;49m\u001b[43mshort\u001b[49m()\n",
      "\u001b[0;31mAttributeError\u001b[0m: 'list' object has no attribute 'short'"
     ]
    }
   ],
   "source": [
    "l3.short()"
   ]
  },
  {
   "cell_type": "code",
   "execution_count": 201,
   "id": "a0e36837-b18d-4f6d-ad17-5f19a76805bf",
   "metadata": {},
   "outputs": [],
   "source": [
    "l0 =[1,2,3,4,5,]"
   ]
  },
  {
   "cell_type": "code",
   "execution_count": 204,
   "id": "ce4a9c09-7ab1-4c0a-9624-d2732774ba4b",
   "metadata": {},
   "outputs": [],
   "source": [
    "ll = l0"
   ]
  },
  {
   "cell_type": "code",
   "execution_count": 206,
   "id": "c6ea9458-cce6-4fe8-a2fb-934854e30c39",
   "metadata": {},
   "outputs": [
    {
     "data": {
      "text/plain": [
       "[1, 2, 3, 4, 5]"
      ]
     },
     "execution_count": 206,
     "metadata": {},
     "output_type": "execute_result"
    }
   ],
   "source": [
    "ll"
   ]
  },
  {
   "cell_type": "code",
   "execution_count": 207,
   "id": "1cccb79c-ba99-4ec2-9fdf-4db6f7954552",
   "metadata": {},
   "outputs": [
    {
     "data": {
      "text/plain": [
       "[1, 2, 3, 4, 5]"
      ]
     },
     "execution_count": 207,
     "metadata": {},
     "output_type": "execute_result"
    }
   ],
   "source": [
    "l0"
   ]
  },
  {
   "cell_type": "code",
   "execution_count": 209,
   "id": "6d62835c-91ca-4d0f-842f-fa064d954934",
   "metadata": {},
   "outputs": [],
   "source": [
    "l0[0] =300"
   ]
  },
  {
   "cell_type": "code",
   "execution_count": 210,
   "id": "4deb71fb-c8ec-4322-b080-a99a260d8afe",
   "metadata": {},
   "outputs": [
    {
     "data": {
      "text/plain": [
       "[300, 2, 3, 4, 5]"
      ]
     },
     "execution_count": 210,
     "metadata": {},
     "output_type": "execute_result"
    }
   ],
   "source": [
    "ll"
   ]
  },
  {
   "cell_type": "code",
   "execution_count": 211,
   "id": "9f7c8d52-97ea-48b7-8805-4a2435dab58a",
   "metadata": {},
   "outputs": [
    {
     "data": {
      "text/plain": [
       "[300, 2, 3, 4, 5]"
      ]
     },
     "execution_count": 211,
     "metadata": {},
     "output_type": "execute_result"
    }
   ],
   "source": [
    "l0"
   ]
  },
  {
   "cell_type": "code",
   "execution_count": 214,
   "id": "669da1d8-f4ac-4a06-b105-674eebbf8d44",
   "metadata": {},
   "outputs": [],
   "source": [
    "l2 = l0.copy()"
   ]
  },
  {
   "cell_type": "code",
   "execution_count": 215,
   "id": "132b533c-6b9d-4691-b656-4d46805ada43",
   "metadata": {},
   "outputs": [
    {
     "data": {
      "text/plain": [
       "[300, 2, 3, 4, 5]"
      ]
     },
     "execution_count": 215,
     "metadata": {},
     "output_type": "execute_result"
    }
   ],
   "source": [
    "ll"
   ]
  },
  {
   "cell_type": "code",
   "execution_count": 216,
   "id": "c9b4b0e2-9678-4b6e-be70-07147146fbce",
   "metadata": {},
   "outputs": [
    {
     "data": {
      "text/plain": [
       "[300, 2, 3, 4, 5]"
      ]
     },
     "execution_count": 216,
     "metadata": {},
     "output_type": "execute_result"
    }
   ],
   "source": [
    "l2"
   ]
  },
  {
   "cell_type": "code",
   "execution_count": 217,
   "id": "1f650ec6-af7b-4bfd-84c3-30dfaf3e63e1",
   "metadata": {},
   "outputs": [],
   "source": [
    "l0[1]= 300"
   ]
  },
  {
   "cell_type": "code",
   "execution_count": 218,
   "id": "c063c9d7-e079-4506-b9d4-d882dd3775e2",
   "metadata": {},
   "outputs": [
    {
     "data": {
      "text/plain": [
       "[300, 300, 3, 4, 5]"
      ]
     },
     "execution_count": 218,
     "metadata": {},
     "output_type": "execute_result"
    }
   ],
   "source": [
    "ll"
   ]
  },
  {
   "cell_type": "code",
   "execution_count": 219,
   "id": "3a8eafa2-1690-42c3-bcec-052eb5db51e9",
   "metadata": {},
   "outputs": [
    {
     "data": {
      "text/plain": [
       "[300, 2, 3, 4, 5]"
      ]
     },
     "execution_count": 219,
     "metadata": {},
     "output_type": "execute_result"
    }
   ],
   "source": [
    "l2"
   ]
  },
  {
   "cell_type": "code",
   "execution_count": 220,
   "id": "344dafd1-cb4e-4389-b6e1-f59a9f45fde0",
   "metadata": {},
   "outputs": [
    {
     "data": {
      "text/plain": [
       "(1, 2, 3, 4, 'subho', 'pwskills', (4+56j), True)"
      ]
     },
     "execution_count": 220,
     "metadata": {},
     "output_type": "execute_result"
    }
   ],
   "source": [
    "t"
   ]
  },
  {
   "cell_type": "code",
   "execution_count": 222,
   "id": "52e61e4b-8c9c-47f7-a3f7-e137071430b6",
   "metadata": {},
   "outputs": [
    {
     "data": {
      "text/plain": [
       "1"
      ]
     },
     "execution_count": 222,
     "metadata": {},
     "output_type": "execute_result"
    }
   ],
   "source": [
    "t.count(3)"
   ]
  },
  {
   "cell_type": "code",
   "execution_count": 223,
   "id": "e27e1c79-d569-4de7-a828-bdec794780dd",
   "metadata": {},
   "outputs": [
    {
     "ename": "ValueError",
     "evalue": "tuple.index(x): x not in tuple",
     "output_type": "error",
     "traceback": [
      "\u001b[0;31m---------------------------------------------------------------------------\u001b[0m",
      "\u001b[0;31mValueError\u001b[0m                                Traceback (most recent call last)",
      "Cell \u001b[0;32mIn[223], line 1\u001b[0m\n\u001b[0;32m----> 1\u001b[0m \u001b[43mt\u001b[49m\u001b[38;5;241;43m.\u001b[39;49m\u001b[43mindex\u001b[49m\u001b[43m(\u001b[49m\u001b[38;5;124;43m'\u001b[39;49m\u001b[38;5;124;43mraj\u001b[39;49m\u001b[38;5;124;43m'\u001b[39;49m\u001b[43m)\u001b[49m\n",
      "\u001b[0;31mValueError\u001b[0m: tuple.index(x): x not in tuple"
     ]
    }
   ],
   "source": [
    "t.index('raj')"
   ]
  },
  {
   "cell_type": "code",
   "execution_count": 224,
   "id": "aa70473f-6b8b-4a4d-9766-fa034d15b8a2",
   "metadata": {},
   "outputs": [
    {
     "data": {
      "text/plain": [
       "'pwskills'"
      ]
     },
     "execution_count": 224,
     "metadata": {},
     "output_type": "execute_result"
    }
   ],
   "source": [
    "s1"
   ]
  },
  {
   "cell_type": "code",
   "execution_count": 225,
   "id": "ee9323f0-2ab9-4480-b197-99a9bd004b4a",
   "metadata": {},
   "outputs": [
    {
     "data": {
      "text/plain": [
       "{}"
      ]
     },
     "execution_count": 225,
     "metadata": {},
     "output_type": "execute_result"
    }
   ],
   "source": [
    "s"
   ]
  },
  {
   "cell_type": "code",
   "execution_count": 226,
   "id": "526240b9-5006-45f1-b9c5-c9d39bc9c66a",
   "metadata": {},
   "outputs": [],
   "source": [
    "s= {44563246668943}"
   ]
  },
  {
   "cell_type": "code",
   "execution_count": 227,
   "id": "d5b02a1b-35d0-439a-9066-535736cefd0a",
   "metadata": {},
   "outputs": [
    {
     "data": {
      "text/plain": [
       "{44563246668943}"
      ]
     },
     "execution_count": 227,
     "metadata": {},
     "output_type": "execute_result"
    }
   ],
   "source": [
    "s"
   ]
  },
  {
   "cell_type": "code",
   "execution_count": 228,
   "id": "85fe7fc3-cb33-44f7-aed0-fbddb03233b1",
   "metadata": {},
   "outputs": [
    {
     "data": {
      "text/plain": [
       "{'name': 'raj',\n",
       " 'subject': ['data science', 'big data'],\n",
       " 'number': 123456742,\n",
       " 'phone number': 7047032600}"
      ]
     },
     "execution_count": 228,
     "metadata": {},
     "output_type": "execute_result"
    }
   ],
   "source": [
    "d1"
   ]
  },
  {
   "cell_type": "code",
   "execution_count": 229,
   "id": "cd75efcb-21e9-48fb-bf63-b9e3892d7135",
   "metadata": {},
   "outputs": [
    {
     "data": {
      "text/plain": [
       "dict_keys(['name', 'subject', 'number', 'phone number'])"
      ]
     },
     "execution_count": 229,
     "metadata": {},
     "output_type": "execute_result"
    }
   ],
   "source": [
    "d1.keys()"
   ]
  },
  {
   "cell_type": "code",
   "execution_count": 232,
   "id": "de8301bc-3069-4dee-b5ec-f9ef1d238f19",
   "metadata": {},
   "outputs": [
    {
     "data": {
      "text/plain": [
       "['raj', ['data science', 'big data'], 123456742, 7047032600]"
      ]
     },
     "execution_count": 232,
     "metadata": {},
     "output_type": "execute_result"
    }
   ],
   "source": [
    "list(d1.values())"
   ]
  },
  {
   "cell_type": "code",
   "execution_count": 233,
   "id": "49ad0281-d8de-4a10-8af6-871458955733",
   "metadata": {},
   "outputs": [
    {
     "data": {
      "text/plain": [
       "[('name', 'raj'),\n",
       " ('subject', ['data science', 'big data']),\n",
       " ('number', 123456742),\n",
       " ('phone number', 7047032600)]"
      ]
     },
     "execution_count": 233,
     "metadata": {},
     "output_type": "execute_result"
    }
   ],
   "source": [
    "list (d1.items())"
   ]
  },
  {
   "cell_type": "code",
   "execution_count": 234,
   "id": "d075b4c8-57de-4bdb-b4fc-9f915bca621a",
   "metadata": {},
   "outputs": [
    {
     "data": {
      "text/plain": [
       "'raj'"
      ]
     },
     "execution_count": 234,
     "metadata": {},
     "output_type": "execute_result"
    }
   ],
   "source": [
    "d1.get('name')"
   ]
  },
  {
   "cell_type": "code",
   "execution_count": null,
   "id": "f1139cd6-e6ae-4281-aa6e-860fb8e80190",
   "metadata": {},
   "outputs": [],
   "source": [
    "d1"
   ]
  }
 ],
 "metadata": {
  "kernelspec": {
   "display_name": "Python 3 (ipykernel)",
   "language": "python",
   "name": "python3"
  },
  "language_info": {
   "codemirror_mode": {
    "name": "ipython",
    "version": 3
   },
   "file_extension": ".py",
   "mimetype": "text/x-python",
   "name": "python",
   "nbconvert_exporter": "python",
   "pygments_lexer": "ipython3",
   "version": "3.10.8"
  }
 },
 "nbformat": 4,
 "nbformat_minor": 5
}
